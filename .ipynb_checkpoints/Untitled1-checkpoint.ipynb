{
 "cells": [
  {
   "cell_type": "code",
   "execution_count": null,
   "metadata": {
    "ExecuteTime": {
     "start_time": "2019-12-01T02:19:22.454Z"
    }
   },
   "outputs": [],
   "source": [
    "import multiprocessing\n",
    "import json\n",
    "from expectimax import heuristic_f1, heuristic_f2, heuristic_f3\n",
    "\n",
    "N_ROUNDS = 100\n",
    "\n",
    "results = {}\n",
    "\n",
    "\n",
    "cores = multiprocessing.cpu_count()\n",
    "pool = multiprocessing.Pool(processes=cores)\n",
    "\n",
    "if __name__ == '__main__':\n",
    "    def play_on_h(h):\n",
    "        print('bbb')\n",
    "        import Game\n",
    "        from expectimaxAgent import ExpMaxAgent\n",
    "\n",
    "\n",
    "        param = {'weight': 1,\n",
    "             'depth': 1,\n",
    "             'max_depth': 3}\n",
    "\n",
    "        return Game.game_play(ExpMaxAgent, heuristic_f=h, **param)\n",
    "\n",
    "print('aaa')\n",
    "\n",
    "\n",
    "for score, moves, max_block in pool.imap(play_on_h, [heuristic_f1] * N_ROUNDS):\n",
    "    results['f1']['score'].append(score)\n",
    "    results['f1']['move'].append(moves)\n",
    "    results['f1']['max_block'].append(max_block)\n",
    "\n",
    "\n",
    "with open('stats.json', 'w') as f:\n",
    "    json.dump(results)\n"
   ]
  },
  {
   "cell_type": "code",
   "execution_count": null,
   "metadata": {},
   "outputs": [],
   "source": []
  }
 ],
 "metadata": {
  "kernelspec": {
   "display_name": "Python 3",
   "language": "python",
   "name": "python3"
  },
  "language_info": {
   "codemirror_mode": {
    "name": "ipython",
    "version": 3
   },
   "file_extension": ".py",
   "mimetype": "text/x-python",
   "name": "python",
   "nbconvert_exporter": "python",
   "pygments_lexer": "ipython3",
   "version": "3.7.3"
  },
  "toc": {
   "base_numbering": 1,
   "nav_menu": {},
   "number_sections": true,
   "sideBar": true,
   "skip_h1_title": false,
   "title_cell": "Table of Contents",
   "title_sidebar": "Contents",
   "toc_cell": false,
   "toc_position": {},
   "toc_section_display": true,
   "toc_window_display": false
  }
 },
 "nbformat": 4,
 "nbformat_minor": 2
}
